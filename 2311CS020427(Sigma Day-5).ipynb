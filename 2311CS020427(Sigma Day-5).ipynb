{
 "cells": [
  {
   "cell_type": "code",
   "execution_count": 1,
   "id": "47afb091-dcc7-4956-8bdc-b40c2703ba3c",
   "metadata": {},
   "outputs": [
    {
     "name": "stdin",
     "output_type": "stream",
     "text": [
      "Enter a positive integer:  45\n"
     ]
    },
    {
     "name": "stdout",
     "output_type": "stream",
     "text": [
      "\n",
      "Numbers from 1 to 45 :\n",
      "1\n",
      "2\n",
      "3\n",
      "4\n",
      "5\n",
      "6\n",
      "7\n",
      "8\n",
      "9\n",
      "10\n",
      "11\n",
      "12\n",
      "13\n",
      "14\n",
      "15\n",
      "16\n",
      "17\n",
      "18\n",
      "19\n",
      "20\n",
      "21\n",
      "22\n",
      "23\n",
      "24\n",
      "25\n",
      "26\n",
      "27\n",
      "28\n",
      "29\n",
      "30\n",
      "31\n",
      "32\n",
      "33\n",
      "34\n",
      "35\n",
      "36\n",
      "37\n",
      "38\n",
      "39\n",
      "40\n",
      "41\n",
      "42\n",
      "43\n",
      "44\n",
      "45\n",
      "\n",
      "The sum of numbers from 1 to 45 is: 1035\n"
     ]
    }
   ],
   "source": [
    "def main():\n",
    "    while True:\n",
    "        try:\n",
    "            n = int(input(\"Enter a positive integer: \"))\n",
    "            if n > 0:\n",
    "                break\n",
    "            else:\n",
    "                print(\"Please enter a positive integer.\")\n",
    "        except ValueError:\n",
    "            print(\"Invalid input. Please enter a positive integer.\")\n",
    "    \n",
    "    print(\"\\nNumbers from 1 to\", n, \":\")\n",
    "    for i in range(1, n + 1):\n",
    "        print(i)\n",
    "    \n",
    "    sum_of_numbers = 0\n",
    "    current_number = 1\n",
    "    while current_number <= n:\n",
    "        sum_of_numbers += current_number\n",
    "        current_number += 1\n",
    "    \n",
    "    print(\"\\nThe sum of numbers from 1 to\", n, \"is:\", sum_of_numbers)\n",
    "\n",
    "if __name__ == \"__main__\":\n",
    "    main()\n"
   ]
  },
  {
   "cell_type": "code",
   "execution_count": 3,
   "id": "7936240d-1012-4234-9ab1-53faf8d524d2",
   "metadata": {},
   "outputs": [
    {
     "name": "stdin",
     "output_type": "stream",
     "text": [
      "Enter a positive integer:  10\n"
     ]
    },
    {
     "name": "stdout",
     "output_type": "stream",
     "text": [
      "The square of 10 is: 100\n"
     ]
    }
   ],
   "source": [
    "def calculate_square(n):\n",
    "    \"\"\"\n",
    "    This function takes a single argument n and returns the square of n.\n",
    "    \"\"\"\n",
    "    return n ** 2\n",
    "\n",
    "def main():\n",
    "    while True:\n",
    "        try:\n",
    "            number = int(input(\"Enter a positive integer: \"))\n",
    "            if number > 0:\n",
    "                break\n",
    "            else:\n",
    "                print(\"Please enter a positive integer.\")\n",
    "        except ValueError:\n",
    "            print(\"Invalid input. Please enter a positive integer.\")\n",
    "    \n",
    "    result = calculate_square(number)\n",
    "    print(f\"The square of {number} is: {result}\")\n",
    "\n",
    "# Run the program\n",
    "if __name__ == \"__main__\":\n",
    "    main()\n"
   ]
  },
  {
   "cell_type": "code",
   "execution_count": null,
   "id": "beef9eca-8403-4bf2-adab-834e8a665926",
   "metadata": {},
   "outputs": [],
   "source": []
  }
 ],
 "metadata": {
  "kernelspec": {
   "display_name": "Python [conda env:base] *",
   "language": "python",
   "name": "conda-base-py"
  },
  "language_info": {
   "codemirror_mode": {
    "name": "ipython",
    "version": 3
   },
   "file_extension": ".py",
   "mimetype": "text/x-python",
   "name": "python",
   "nbconvert_exporter": "python",
   "pygments_lexer": "ipython3",
   "version": "3.12.7"
  }
 },
 "nbformat": 4,
 "nbformat_minor": 5
}
